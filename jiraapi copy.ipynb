{
 "cells": [
  {
   "cell_type": "code",
   "execution_count": 35,
   "id": "b8e2ba94-c751-4e74-8530-7b028187a8f3",
   "metadata": {},
   "outputs": [
    {
     "name": "stdout",
     "output_type": "stream",
     "text": [
      "Defaulting to user installation because normal site-packages is not writeable\n",
      "Requirement already satisfied: requests in /Users/arjun/Library/Python/3.9/lib/python/site-packages (2.32.3)\n",
      "Requirement already satisfied: certifi>=2017.4.17 in /Users/arjun/Library/Python/3.9/lib/python/site-packages (from requests) (2025.1.31)\n",
      "Requirement already satisfied: charset-normalizer<4,>=2 in /Users/arjun/Library/Python/3.9/lib/python/site-packages (from requests) (3.4.1)\n",
      "Requirement already satisfied: urllib3<3,>=1.21.1 in /Users/arjun/Library/Python/3.9/lib/python/site-packages (from requests) (2.3.0)\n",
      "Requirement already satisfied: idna<4,>=2.5 in /Users/arjun/Library/Python/3.9/lib/python/site-packages (from requests) (3.10)\n",
      "\u001b[33mWARNING: You are using pip version 21.2.4; however, version 25.1.1 is available.\n",
      "You should consider upgrading via the '/Library/Developer/CommandLineTools/usr/bin/python3 -m pip install --upgrade pip' command.\u001b[0m\n"
     ]
    }
   ],
   "source": [
    "!pip3 install requests"
   ]
  },
  {
   "cell_type": "code",
   "execution_count": 37,
   "id": "3b546fd0-dfc9-433e-8f45-06f40c39f734",
   "metadata": {},
   "outputs": [],
   "source": [
    "import requests\n",
    "from requests.auth import HTTPBasicAuth\n",
    "\n",
    "# 🔐 Credentials (replace with your own)\n",
    "EMAIL = \"arjunr.coc@gmail.com\"\n",
    "API_TOKEN = \"insert_your_token\"\n",
    "\n",
    "# 🌐 Jira site\n",
    "JIRA_BASE_URL = \"https://arjunv.atlassian.net\"\n",
    "\n",
    "# 📁 Project info\n",
    "PROJECT_KEY = \"DAP\"  # Replace with your actual project key\n",
    "FIX_VERSION_NAME = \"v1.0\"  # Replace with your created fix version\n"
   ]
  },
  {
   "cell_type": "code",
   "execution_count": 38,
   "id": "eead6bb9-d620-4cb8-8edf-5c3d41cce5a3",
   "metadata": {},
   "outputs": [],
   "source": [
    "# Jira Query Language (JQL)\n",
    "JQL_QUERY = f'project = {PROJECT_KEY} AND fixVersion = \"{FIX_VERSION_NAME}\"'\n",
    "\n",
    "params = {\n",
    "    \"jql\": JQL_QUERY,\n",
    "    \"maxResults\": 50,\n",
    "    \"fields\": \"key,summary,status,fixVersions\"\n",
    "}\n"
   ]
  },
  {
   "cell_type": "code",
   "execution_count": 39,
   "id": "bc46ee42-1692-4021-afcc-1288d2f3d40f",
   "metadata": {},
   "outputs": [
    {
     "name": "stdout",
     "output_type": "stream",
     "text": [
      "Status Code: 200\n"
     ]
    }
   ],
   "source": [
    "url = f\"{JIRA_BASE_URL}/rest/api/3/search\"\n",
    "\n",
    "headers = {\n",
    "    \"Accept\": \"application/json\",\n",
    "    \"Content-Type\": \"application/json\"\n",
    "}\n",
    "\n",
    "response = requests.get(\n",
    "    url,\n",
    "    headers=headers,\n",
    "    params=params,\n",
    "    auth=HTTPBasicAuth(EMAIL, API_TOKEN)\n",
    ")\n",
    "\n",
    "# Check response\n",
    "print(\"Status Code:\", response.status_code)\n",
    "if response.status_code != 200:\n",
    "    print(response.text)\n"
   ]
  },
  {
   "cell_type": "code",
   "execution_count": 40,
   "id": "b794f13e-71d8-4f61-ab08-1a3a8296196e",
   "metadata": {},
   "outputs": [
    {
     "name": "stdout",
     "output_type": "stream",
     "text": [
      "Found 1 issues:\n",
      "\n",
      "DAP-1 | test api issue | Status: Backlog | Fix Versions: v1.0\n"
     ]
    }
   ],
   "source": [
    "# Display issues\n",
    "data = response.json()\n",
    "issues = data.get(\"issues\", [])\n",
    "\n",
    "print(f\"Found {len(issues)} issues:\\n\")\n",
    "\n",
    "for issue in issues:\n",
    "    key = issue[\"key\"]\n",
    "    summary = issue[\"fields\"][\"summary\"]\n",
    "    status = issue[\"fields\"][\"status\"][\"name\"]\n",
    "    fix_versions = [v[\"name\"] for v in issue[\"fields\"][\"fixVersions\"]]\n",
    "    \n",
    "    print(f\"{key} | {summary} | Status: {status} | Fix Versions: {', '.join(fix_versions)}\")\n"
   ]
  },
  {
   "cell_type": "code",
   "execution_count": null,
   "id": "b4482fb9-71a2-4566-9989-11cf5f2f638c",
   "metadata": {},
   "outputs": [],
   "source": [
    "\n"
   ]
  },
  {
   "cell_type": "code",
   "execution_count": null,
   "id": "70c19e41-b5ff-4f94-835d-64b26ebb67f6",
   "metadata": {},
   "outputs": [],
   "source": []
  }
 ],
 "metadata": {
  "kernelspec": {
   "display_name": "Python 3 (ipykernel)",
   "language": "python",
   "name": "python3"
  },
  "language_info": {
   "codemirror_mode": {
    "name": "ipython",
    "version": 3
   },
   "file_extension": ".py",
   "mimetype": "text/x-python",
   "name": "python",
   "nbconvert_exporter": "python",
   "pygments_lexer": "ipython3",
   "version": "3.9.6"
  }
 },
 "nbformat": 4,
 "nbformat_minor": 5
}
