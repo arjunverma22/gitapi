{
 "cells": [
  {
   "cell_type": "code",
   "execution_count": 2,
   "id": "32c7f120-01bb-417a-ab9e-1972cfb9f42a",
   "metadata": {},
   "outputs": [
    {
     "name": "stdout",
     "output_type": "stream",
     "text": [
      "Defaulting to user installation because normal site-packages is not writeable\n",
      "Requirement already satisfied: requests in /Users/arjun/Library/Python/3.9/lib/python/site-packages (2.32.3)\n",
      "Requirement already satisfied: charset-normalizer<4,>=2 in /Users/arjun/Library/Python/3.9/lib/python/site-packages (from requests) (3.4.1)\n",
      "Requirement already satisfied: idna<4,>=2.5 in /Users/arjun/Library/Python/3.9/lib/python/site-packages (from requests) (3.10)\n",
      "Requirement already satisfied: urllib3<3,>=1.21.1 in /Users/arjun/Library/Python/3.9/lib/python/site-packages (from requests) (2.3.0)\n",
      "Requirement already satisfied: certifi>=2017.4.17 in /Users/arjun/Library/Python/3.9/lib/python/site-packages (from requests) (2025.1.31)\n",
      "\u001b[33mWARNING: You are using pip version 21.2.4; however, version 25.1.1 is available.\n",
      "You should consider upgrading via the '/Library/Developer/CommandLineTools/usr/bin/python3 -m pip install --upgrade pip' command.\u001b[0m\n",
      "Note: you may need to restart the kernel to use updated packages.\n"
     ]
    }
   ],
   "source": [
    "pip install requests"
   ]
  },
  {
   "cell_type": "code",
   "execution_count": 17,
   "id": "42d8797f-e857-4ba7-a706-9ff9e89ca076",
   "metadata": {},
   "outputs": [],
   "source": [
    "import requests\n",
    "\n",
    "# Add token here\n",
    "TOKEN = \"github_pat_your_token_please\"\n",
    "HEADERS = {\n",
    "    \"Authorization\": f\"token {TOKEN}\",\n",
    "    \"Accept\": \"application/vnd.github.mercy-preview+json\"  # to get topics\n",
    "}\n",
    "\n",
    "owner = \"microsoft\"\n",
    "repo = \"vscode\""
   ]
  },
  {
   "cell_type": "code",
   "execution_count": 16,
   "id": "fcf1447e-c364-4aa3-b290-22c2d94a5c30",
   "metadata": {},
   "outputs": [
    {
     "name": "stdout",
     "output_type": "stream",
     "text": [
      "Topics of microsoft/vscode repo: ['editor', 'electron', 'visual-studio-code', 'typescript', 'microsoft']\n"
     ]
    }
   ],
   "source": [
    "# Get topics of microsoft/vscode repo\n",
    "url_topics = f\"https://api.github.com/repos/{owner}/{repo}/topics\"\n",
    "response = requests.get(url_topics, headers=HEADERS)\n",
    "topics = response.json().get(\"names\", [])\n",
    "print(\"Topics of microsoft/vscode repo:\", topics)\n"
   ]
  },
  {
   "cell_type": "code",
   "execution_count": 5,
   "id": "867ea6f9-361d-429a-9b60-d521918935d6",
   "metadata": {},
   "outputs": [
    {
     "name": "stdout",
     "output_type": "stream",
     "text": [
      "Branches in microsoft/vscode repo:\n",
      "- 169\n",
      "- DonJayamanne-patch-1\n",
      "- TylerLeonhardt/another-branch\n",
      "- TylerLeonhardt/fix-arrowkeys-quickpick-a11y\n",
      "- TylerLeonhardt/fix-bing-task\n",
      "- TylerLeonhardt/fix-quickpick-focus\n",
      "- TylerLeonhardt/investigate-vscode-encrypt\n",
      "- TylerLeonhardt/issue120439\n",
      "- TylerLeonhardt/issue125206\n",
      "- TylerLeonhardt/quick-access-improvements\n",
      "- TylerLeonhardt/reverted-709c6058997eceeb7d547341e57783546fda2197\n",
      "- TylerLeonhardt/test-something\n",
      "- TylerLeonhardt/test-upload-nls\n",
      "- TylerLeonhardt/translation-stage\n",
      "- TylerLeonhardt/try-moving-to-asar\n",
      "- aamunger/IWTest\n",
      "- aamunger/ReplKernelAffinity\n",
      "- aamunger/backupOnEH\n",
      "- aamunger/backupSizeLimit\n",
      "- aamunger/cellDecorations\n",
      "- aamunger/collapsedWithError\n",
      "- aamunger/createReplDoc\n",
      "- aamunger/createReplDoc2\n",
      "- aamunger/diffNavigation2\n",
      "- aamunger/disposableTimeout2\n",
      "- aamunger/fixBuildBreak\n",
      "- aamunger/handleCancelledSave\n",
      "- aamunger/incrementalSerialization\n",
      "- aamunger/kernelAutoSelection\n",
      "- aamunger/notebookSmokeTests\n"
     ]
    }
   ],
   "source": [
    "def list_branches(owner, repo):\n",
    "    url = f\"https://api.github.com/repos/{owner}/{repo}/branches\"\n",
    "    response = requests.get(url, headers=HEADERS)\n",
    "    branches = response.json()\n",
    "    branch_names = [branch['name'] for branch in branches]\n",
    "    return branch_names\n",
    "\n",
    "branches = list_branches(owner, repo)\n",
    "print(f\"Branches in {owner}/{repo} repo:\")\n",
    "for b in branches:\n",
    "    print(\"-\", b)\n"
   ]
  },
  {
   "cell_type": "code",
   "execution_count": 6,
   "id": "fc6623d7-9fe9-4d31-8771-3b53358a1a96",
   "metadata": {},
   "outputs": [
    {
     "name": "stdout",
     "output_type": "stream",
     "text": [
      "Open Pull Requests in microsoft/vscode repo:\n",
      "#250131 - [WIP] Notebook Sticky execution Spinner \"stuck\" after execution finishes by Copilot\n",
      "#250128 - mcp: allow dnd on tool-generated resources by connor4312\n",
      "#250085 - fix patternIndices typo by matthew-godin\n",
      "#250084 - fix: conditionally append scope parameter in authorization URL for DynamicAuthProvider by imfing\n",
      "#250081 - disasembly view: handle negative line height returned by debug adapter by eronnen\n",
      "#250076 - Fix workspace findFiles API to properly handle glob patterns by Copilot\n",
      "#250044 - Git - add extension API to get the repository root by lszomoru\n",
      "#250018 - chat: add multiple 'initiator' types to `provideLanguageModelResponse` by connor4312\n",
      "#250012 - event handling for custom chat modes by aeschli\n",
      "#249991 - Switch \"undo chat edits\" to use Alt+Backspace on Linux by Copilot\n",
      "#249962 - Make Monaco Editor compatible with Vite by remcohaszing\n",
      "#249945 - Fix VS Code not showing correct file content for virtual files that change on writeFile by Copilot\n",
      "#249937 - A11y: Add outline to quick pick rows focus state by hawkticehurst\n",
      "#249903 - feat: use session token when syncing new profiles by rzhao271\n",
      "#249902 - github image uploader service by justschen\n",
      "#249824 - Fix vscode.env.onDidChangeShell not firing in the webworker extension host by jeanp413\n",
      "#249742 - feat: conditionallyExecuteCommand API proposal by joe-p\n",
      "#249739 - Explorer Font Family and Font Size Support by DeBoogie\n",
      "#249721 - Update Gitter badge, fix typo, and simplify image markup by anshtiwatne\n",
      "#249715 - error correction instructions by weidehai\n",
      "#249711 - Add secondary overview ruler colors for staged changes by Copilot\n",
      "#249705 - Documento para las tecnologías de vscode by Jeshua3545926\n",
      "#249616 - Add local Monaco playground by remcohaszing\n",
      "#249597 - Support extentions providing code snippets via registered text document content providers (fix #248407) by mbehzad\n",
      "#249594 - Adding Description on Visual Studio Code Readme.md by caesartresnaandika\n",
      "#249591 - Wip: math support in chat by mjbvz\n",
      "#249580 - Task terminal icon has color glitch by anthonykim1\n",
      "#249576 - Add Copilot setup steps for Codespaces walkthrough by bamurtaugh\n",
      "#249521 - Copilot `1.100` recovery fixes by bpasero\n",
      "#249430 - fix: missing translations of remote built-in extensions by hyrious\n"
     ]
    }
   ],
   "source": [
    "def list_pull_requests(owner, repo, state=\"open\"):\n",
    "    url = f\"https://api.github.com/repos/{owner}/{repo}/pulls?state={state}\"\n",
    "    response = requests.get(url, headers=HEADERS)\n",
    "    prs = response.json()\n",
    "    pr_list = [(pr['number'], pr['title'], pr['user']['login']) for pr in prs]\n",
    "    return pr_list\n",
    "\n",
    "pull_requests = list_pull_requests(owner, repo)\n",
    "print(f\"Open Pull Requests in {owner}/{repo} repo:\")\n",
    "for pr_num, title, author in pull_requests:\n",
    "    print(f\"#{pr_num} - {title} by {author}\")\n"
   ]
  },
  {
   "cell_type": "code",
   "execution_count": 8,
   "id": "67ef4852-109e-4b45-a6af-a4719148eacf",
   "metadata": {},
   "outputs": [
    {
     "name": "stdout",
     "output_type": "stream",
     "text": [
      "Branch 'main' exists in microsoft/vscode.\n",
      "Branch 'release' does NOT exist in microsoft/vscode.\n",
      "Branch 'dev' does NOT exist in microsoft/vscode.\n",
      "Branch 'random-feature-branch' does NOT exist in microsoft/vscode.\n"
     ]
    },
    {
     "data": {
      "text/plain": [
       "False"
      ]
     },
     "execution_count": 8,
     "metadata": {},
     "output_type": "execute_result"
    }
   ],
   "source": [
    "def check_branch_exists(owner, repo, branch_name):\n",
    "    url = f\"https://api.github.com/repos/{owner}/{repo}/branches/{branch_name}\"\n",
    "    response = requests.get(url, headers=HEADERS)\n",
    "    \n",
    "    if response.status_code == 200:\n",
    "        print(f\"Branch '{branch_name}' exists in {owner}/{repo}.\")\n",
    "        return True\n",
    "    else:\n",
    "        print(f\"Branch '{branch_name}' does NOT exist in {owner}/{repo}.\")\n",
    "        return False\n",
    "\n",
    "# Test with some branches\n",
    "check_branch_exists(\"microsoft\", \"vscode\", \"main\")\n",
    "check_branch_exists(\"microsoft\", \"vscode\", \"release\")\n",
    "check_branch_exists(\"microsoft\", \"vscode\", \"dev\")\n",
    "check_branch_exists(\"microsoft\", \"vscode\", \"random-feature-branch\")\n"
   ]
  },
  {
   "cell_type": "code",
   "execution_count": 10,
   "id": "f7099f46-61cf-4f8b-b349-923e425fdb19",
   "metadata": {},
   "outputs": [],
   "source": [
    "def filter_repos_by_topic(topic, org=None):\n",
    "    if org:\n",
    "        url = f\"https://api.github.com/search/repositories?q=topic:{topic}+org:{org}&per_page=10\"\n",
    "    else:\n",
    "        url = f\"https://api.github.com/search/repositories?q=topic:{topic}&per_page=10\"\n",
    "    \n",
    "    response = requests.get(url, headers=HEADERS)\n",
    "    if response.status_code != 200:\n",
    "        print(f\"Failed to fetch: {response.status_code}\")\n",
    "        return []\n",
    "\n",
    "    data = response.json()\n",
    "    repos = data.get(\"items\", [])\n",
    "    \n",
    "    results = [(repo['full_name'], repo['html_url']) for repo in repos]\n",
    "    \n",
    "    return results\n"
   ]
  },
  {
   "cell_type": "code",
   "execution_count": 18,
   "id": "4b82139c-6e1e-4e8c-8da2-baee3798b09d",
   "metadata": {},
   "outputs": [
    {
     "name": "stdout",
     "output_type": "stream",
     "text": [
      "Repositories with topic 'editor':\n",
      "microsoft/vscode: https://github.com/microsoft/vscode\n",
      "atom/atom: https://github.com/atom/atom\n",
      "toeverything/AFFiNE: https://github.com/toeverything/AFFiNE\n",
      "marktext/marktext: https://github.com/marktext/marktext\n",
      "slab/quill: https://github.com/slab/quill\n",
      "microsoft/monaco-editor: https://github.com/microsoft/monaco-editor\n",
      "mifi/lossless-cut: https://github.com/mifi/lossless-cut\n",
      "ianstormtaylor/slate: https://github.com/ianstormtaylor/slate\n",
      "ueberdosis/tiptap: https://github.com/ueberdosis/tiptap\n",
      "drawdb-io/drawdb: https://github.com/drawdb-io/drawdb\n"
     ]
    }
   ],
   "source": [
    "# Search public repos with topic \"editor\"\n",
    "results = filter_repos_by_topic(\"editor\")\n",
    "print(\"Repositories with topic 'editor':\")\n",
    "for name, url in results:\n",
    "    print(f\"{name}: {url}\")"
   ]
  },
  {
   "cell_type": "code",
   "execution_count": null,
   "id": "ba04aad9-29d9-48d4-a695-57a73798ff63",
   "metadata": {},
   "outputs": [],
   "source": []
  }
 ],
 "metadata": {
  "kernelspec": {
   "display_name": "Python 3 (ipykernel)",
   "language": "python",
   "name": "python3"
  },
  "language_info": {
   "codemirror_mode": {
    "name": "ipython",
    "version": 3
   },
   "file_extension": ".py",
   "mimetype": "text/x-python",
   "name": "python",
   "nbconvert_exporter": "python",
   "pygments_lexer": "ipython3",
   "version": "3.9.6"
  }
 },
 "nbformat": 4,
 "nbformat_minor": 5
}
