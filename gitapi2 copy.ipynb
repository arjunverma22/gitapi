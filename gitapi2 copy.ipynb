{
 "cells": [
  {
   "cell_type": "code",
   "execution_count": 4,
   "id": "3edf5936-0d7e-4c09-b849-21174cc608fb",
   "metadata": {},
   "outputs": [
    {
     "name": "stdout",
     "output_type": "stream",
     "text": [
      "Defaulting to user installation because normal site-packages is not writeable\n",
      "Requirement already satisfied: requests in /Users/arjun/Library/Python/3.9/lib/python/site-packages (2.32.3)\n",
      "Requirement already satisfied: charset-normalizer<4,>=2 in /Users/arjun/Library/Python/3.9/lib/python/site-packages (from requests) (3.4.1)\n",
      "Requirement already satisfied: urllib3<3,>=1.21.1 in /Users/arjun/Library/Python/3.9/lib/python/site-packages (from requests) (2.3.0)\n",
      "Requirement already satisfied: idna<4,>=2.5 in /Users/arjun/Library/Python/3.9/lib/python/site-packages (from requests) (3.10)\n",
      "Requirement already satisfied: certifi>=2017.4.17 in /Users/arjun/Library/Python/3.9/lib/python/site-packages (from requests) (2025.1.31)\n",
      "\u001b[33mWARNING: You are using pip version 21.2.4; however, version 25.1.1 is available.\n",
      "You should consider upgrading via the '/Library/Developer/CommandLineTools/usr/bin/python3 -m pip install --upgrade pip' command.\u001b[0m\n",
      "Note: you may need to restart the kernel to use updated packages.\n"
     ]
    }
   ],
   "source": [
    "pip install requests\n"
   ]
  },
  {
   "cell_type": "code",
   "execution_count": 14,
   "id": "541b81aa-47fa-4d2c-bf3d-3cdc9d14d2c0",
   "metadata": {},
   "outputs": [],
   "source": [
    "import requests\n",
    "\n",
    "TOKEN = \"your_token\"\n",
    "REPO = \"arjunverma22/myapp\"\n",
    "\n",
    "headers = {\n",
    "    \"Authorization\": f\"Bearer {TOKEN}\",\n",
    "    \"Accept\": \"application/vnd.github+json\"\n",
    "}\n",
    "\n"
   ]
  },
  {
   "cell_type": "code",
   "execution_count": 25,
   "id": "32c57d94-a40e-4a7f-9432-84ad833d253c",
   "metadata": {},
   "outputs": [
    {
     "name": "stdout",
     "output_type": "stream",
     "text": [
      "Branches in repo: ['develop', 'feature/login', 'feature-test-pr', 'hotfix/fix-typo', 'main', 'release/v1.2']\n"
     ]
    }
   ],
   "source": [
    "url_list = f\"https://api.github.com/repos/{REPO}/branches\"\n",
    "res = requests.get(url_list, headers=headers)\n",
    "branches = [b['name'] for b in res.json()]\n",
    "print(\"Branches in repo:\", branches)\n"
   ]
  },
  {
   "cell_type": "code",
   "execution_count": 27,
   "id": "ade616c1-7533-46f5-adf8-452ba836947b",
   "metadata": {},
   "outputs": [
    {
     "name": "stdout",
     "output_type": "stream",
     "text": [
      "Defaulting to user installation because normal site-packages is not writeable\n",
      "Requirement already satisfied: PyGithub in /Users/arjun/Library/Python/3.9/lib/python/site-packages (2.6.1)\n",
      "Requirement already satisfied: typing-extensions>=4.0.0 in /Users/arjun/Library/Python/3.9/lib/python/site-packages (from PyGithub) (4.12.2)\n",
      "Requirement already satisfied: requests>=2.14.0 in /Users/arjun/Library/Python/3.9/lib/python/site-packages (from PyGithub) (2.32.3)\n",
      "Requirement already satisfied: pyjwt[crypto]>=2.4.0 in /Users/arjun/Library/Python/3.9/lib/python/site-packages (from PyGithub) (2.10.1)\n",
      "Requirement already satisfied: urllib3>=1.26.0 in /Users/arjun/Library/Python/3.9/lib/python/site-packages (from PyGithub) (2.3.0)\n",
      "Requirement already satisfied: Deprecated in /Users/arjun/Library/Python/3.9/lib/python/site-packages (from PyGithub) (1.2.18)\n",
      "Requirement already satisfied: pynacl>=1.4.0 in /Users/arjun/Library/Python/3.9/lib/python/site-packages (from PyGithub) (1.5.0)\n",
      "Requirement already satisfied: cryptography>=3.4.0 in /Users/arjun/Library/Python/3.9/lib/python/site-packages (from pyjwt[crypto]>=2.4.0->PyGithub) (45.0.3)\n",
      "Requirement already satisfied: cffi>=1.14 in /Users/arjun/Library/Python/3.9/lib/python/site-packages (from cryptography>=3.4.0->pyjwt[crypto]>=2.4.0->PyGithub) (1.17.1)\n",
      "Requirement already satisfied: pycparser in /Users/arjun/Library/Python/3.9/lib/python/site-packages (from cffi>=1.14->cryptography>=3.4.0->pyjwt[crypto]>=2.4.0->PyGithub) (2.22)\n",
      "Requirement already satisfied: certifi>=2017.4.17 in /Users/arjun/Library/Python/3.9/lib/python/site-packages (from requests>=2.14.0->PyGithub) (2025.1.31)\n",
      "Requirement already satisfied: idna<4,>=2.5 in /Users/arjun/Library/Python/3.9/lib/python/site-packages (from requests>=2.14.0->PyGithub) (3.10)\n",
      "Requirement already satisfied: charset-normalizer<4,>=2 in /Users/arjun/Library/Python/3.9/lib/python/site-packages (from requests>=2.14.0->PyGithub) (3.4.1)\n",
      "Requirement already satisfied: wrapt<2,>=1.10 in /Users/arjun/Library/Python/3.9/lib/python/site-packages (from Deprecated->PyGithub) (1.17.2)\n",
      "\u001b[33mWARNING: You are using pip version 21.2.4; however, version 25.1.1 is available.\n",
      "You should consider upgrading via the '/Library/Developer/CommandLineTools/usr/bin/python3 -m pip install --upgrade pip' command.\u001b[0m\n"
     ]
    }
   ],
   "source": [
    "!pip3 install PyGithub\n"
   ]
  },
  {
   "cell_type": "code",
   "execution_count": 30,
   "id": "9d2dcce2-530e-47dc-a129-29423e703ca2",
   "metadata": {},
   "outputs": [
    {
     "name": "stdout",
     "output_type": "stream",
     "text": [
      " Renamed 'archive/feature-test-pr' → 'feature-test-pr' successfully.\n"
     ]
    }
   ],
   "source": [
    "from github import Github\n",
    "\n",
    "TOKEN = \"your_token\"\n",
    "REPO = \"arjunverma22/myapp\"\n",
    "OLD_BRANCH = \"archive/feature-test-pr\"\n",
    "NEW_BRANCH = \"feature-test-pr\"\n",
    "\n",
    "g = Github(TOKEN)\n",
    "repo = g.get_repo(REPO)\n",
    "\n",
    "# Get the branch reference\n",
    "ref = repo.get_git_ref(f\"heads/{OLD_BRANCH}\")\n",
    "\n",
    "# Create new ref with same SHA\n",
    "repo.create_git_ref(ref=f\"refs/heads/{NEW_BRANCH}\", sha=ref.object.sha)\n",
    "\n",
    "# Delete old branch\n",
    "ref.delete()\n",
    "\n",
    "print(f\" Renamed '{OLD_BRANCH}' → '{NEW_BRANCH}' successfully.\")\n",
    "\n"
   ]
  },
  {
   "cell_type": "code",
   "execution_count": 34,
   "id": "6fa1e83f-74b5-4f0a-aa5c-9ee5a27b20f7",
   "metadata": {},
   "outputs": [
    {
     "name": "stdout",
     "output_type": "stream",
     "text": [
      "Pull Request created: #2 - Automated PR created via PyGithub\n"
     ]
    }
   ],
   "source": [
    "from github import Github\n",
    "\n",
    "TOKEN = \"your_token\"\n",
    "REPO_NAME = \"arjunverma22/myapp\"\n",
    "HEAD_BRANCH = \"develop\"  # branch with your changes\n",
    "BASE_BRANCH = \"main\"             # branch you want to merge into\n",
    "\n",
    "g = Github(TOKEN)\n",
    "repo = g.get_repo(REPO_NAME)\n",
    "\n",
    "pr_title = \"Automated PR created via PyGithub\"\n",
    "pr_body = \"This PR was created using the PyGithub library.\"\n",
    "\n",
    "pr = repo.create_pull(\n",
    "    title=pr_title,\n",
    "    body=pr_body,\n",
    "    head=HEAD_BRANCH,\n",
    "    base=BASE_BRANCH\n",
    ")\n",
    "\n",
    "print(f\"Pull Request created: #{pr.number} - {pr.title}\")\n"
   ]
  },
  {
   "cell_type": "code",
   "execution_count": 35,
   "id": "b764e375-8c13-4255-808f-28b89eacbbef",
   "metadata": {},
   "outputs": [
    {
     "name": "stdout",
     "output_type": "stream",
     "text": [
      "Build status for commit e4caa79a993362df3b351594a05763a5c20ee483: pending\n"
     ]
    }
   ],
   "source": [
    "commit_sha = pr.head.sha\n",
    "commit = repo.get_commit(commit_sha)\n",
    "\n",
    "# Get combined status for the commit\n",
    "status = commit.get_combined_status()\n",
    "\n",
    "print(f\"Build status for commit {commit_sha}: {status.state}\")\n",
    "\n",
    "# Detailed statuses\n",
    "for check in status.statuses:\n",
    "    print(f\"- Context: {check.context}, State: {check.state}, Description: {check.description}\")\n",
    "\n"
   ]
  },
  {
   "cell_type": "code",
   "execution_count": 36,
   "id": "b216e396-7b1a-460d-b0eb-27ce740c9852",
   "metadata": {},
   "outputs": [
    {
     "ename": "GithubException",
     "evalue": "Unprocessable Entity: 422 {\"message\": \"Unprocessable Entity\", \"errors\": [\"Can not approve your own pull request\"], \"documentation_url\": \"https://docs.github.com/rest/pulls/reviews#create-a-review-for-a-pull-request\", \"status\": \"422\"}",
     "output_type": "error",
     "traceback": [
      "\u001b[0;31m---------------------------------------------------------------------------\u001b[0m",
      "\u001b[0;31mGithubException\u001b[0m                           Traceback (most recent call last)",
      "Cell \u001b[0;32mIn[36], line 2\u001b[0m\n\u001b[1;32m      1\u001b[0m \u001b[38;5;66;03m# Approve the PR\u001b[39;00m\n\u001b[0;32m----> 2\u001b[0m review \u001b[38;5;241m=\u001b[39m \u001b[43mpr\u001b[49m\u001b[38;5;241;43m.\u001b[39;49m\u001b[43mcreate_review\u001b[49m\u001b[43m(\u001b[49m\u001b[43mevent\u001b[49m\u001b[38;5;241;43m=\u001b[39;49m\u001b[38;5;124;43m\"\u001b[39;49m\u001b[38;5;124;43mAPPROVE\u001b[39;49m\u001b[38;5;124;43m\"\u001b[39;49m\u001b[43m,\u001b[49m\u001b[43m \u001b[49m\u001b[43mbody\u001b[49m\u001b[38;5;241;43m=\u001b[39;49m\u001b[38;5;124;43m\"\u001b[39;49m\u001b[38;5;124;43mApproved automatically via script.\u001b[39;49m\u001b[38;5;124;43m\"\u001b[39;49m\u001b[43m)\u001b[49m\n\u001b[1;32m      4\u001b[0m \u001b[38;5;28mprint\u001b[39m(\u001b[38;5;124mf\u001b[39m\u001b[38;5;124m\"\u001b[39m\u001b[38;5;124mPR #\u001b[39m\u001b[38;5;132;01m{\u001b[39;00mpr\u001b[38;5;241m.\u001b[39mnumber\u001b[38;5;132;01m}\u001b[39;00m\u001b[38;5;124m approved successfully.\u001b[39m\u001b[38;5;124m\"\u001b[39m)\n",
      "File \u001b[0;32m~/Library/Python/3.9/lib/python/site-packages/github/PullRequest.py:557\u001b[0m, in \u001b[0;36mPullRequest.create_review\u001b[0;34m(self, commit, body, event, comments)\u001b[0m\n\u001b[1;32m    555\u001b[0m \u001b[38;5;28;01melse\u001b[39;00m:\n\u001b[1;32m    556\u001b[0m     post_parameters[\u001b[38;5;124m\"\u001b[39m\u001b[38;5;124mcomments\u001b[39m\u001b[38;5;124m\"\u001b[39m] \u001b[38;5;241m=\u001b[39m []\n\u001b[0;32m--> 557\u001b[0m headers, data \u001b[38;5;241m=\u001b[39m \u001b[38;5;28;43mself\u001b[39;49m\u001b[38;5;241;43m.\u001b[39;49m\u001b[43m_requester\u001b[49m\u001b[38;5;241;43m.\u001b[39;49m\u001b[43mrequestJsonAndCheck\u001b[49m\u001b[43m(\u001b[49m\u001b[38;5;124;43m\"\u001b[39;49m\u001b[38;5;124;43mPOST\u001b[39;49m\u001b[38;5;124;43m\"\u001b[39;49m\u001b[43m,\u001b[49m\u001b[43m \u001b[49m\u001b[38;5;124;43mf\u001b[39;49m\u001b[38;5;124;43m\"\u001b[39;49m\u001b[38;5;132;43;01m{\u001b[39;49;00m\u001b[38;5;28;43mself\u001b[39;49m\u001b[38;5;241;43m.\u001b[39;49m\u001b[43murl\u001b[49m\u001b[38;5;132;43;01m}\u001b[39;49;00m\u001b[38;5;124;43m/reviews\u001b[39;49m\u001b[38;5;124;43m\"\u001b[39;49m\u001b[43m,\u001b[49m\u001b[43m \u001b[49m\u001b[38;5;28;43minput\u001b[39;49m\u001b[38;5;241;43m=\u001b[39;49m\u001b[43mpost_parameters\u001b[49m\u001b[43m)\u001b[49m\n\u001b[1;32m    558\u001b[0m \u001b[38;5;28;01mreturn\u001b[39;00m github\u001b[38;5;241m.\u001b[39mPullRequestReview\u001b[38;5;241m.\u001b[39mPullRequestReview(\u001b[38;5;28mself\u001b[39m\u001b[38;5;241m.\u001b[39m_requester, headers, data)\n",
      "File \u001b[0;32m~/Library/Python/3.9/lib/python/site-packages/github/Requester.py:624\u001b[0m, in \u001b[0;36mRequester.requestJsonAndCheck\u001b[0;34m(self, verb, url, parameters, headers, input, follow_302_redirect)\u001b[0m\n\u001b[1;32m    606\u001b[0m \u001b[38;5;28;01mdef\u001b[39;00m\u001b[38;5;250m \u001b[39m\u001b[38;5;21mrequestJsonAndCheck\u001b[39m(\n\u001b[1;32m    607\u001b[0m     \u001b[38;5;28mself\u001b[39m,\n\u001b[1;32m    608\u001b[0m     verb: \u001b[38;5;28mstr\u001b[39m,\n\u001b[0;32m   (...)\u001b[0m\n\u001b[1;32m    613\u001b[0m     follow_302_redirect: \u001b[38;5;28mbool\u001b[39m \u001b[38;5;241m=\u001b[39m \u001b[38;5;28;01mFalse\u001b[39;00m,\n\u001b[1;32m    614\u001b[0m ) \u001b[38;5;241m-\u001b[39m\u001b[38;5;241m>\u001b[39m Tuple[Dict[\u001b[38;5;28mstr\u001b[39m, Any], Any]:\n\u001b[1;32m    615\u001b[0m \u001b[38;5;250m    \u001b[39m\u001b[38;5;124;03m\"\"\"\u001b[39;00m\n\u001b[1;32m    616\u001b[0m \u001b[38;5;124;03m    Send a request with JSON body.\u001b[39;00m\n\u001b[1;32m    617\u001b[0m \n\u001b[0;32m   (...)\u001b[0m\n\u001b[1;32m    622\u001b[0m \n\u001b[1;32m    623\u001b[0m \u001b[38;5;124;03m    \"\"\"\u001b[39;00m\n\u001b[0;32m--> 624\u001b[0m     \u001b[38;5;28;01mreturn\u001b[39;00m \u001b[38;5;28;43mself\u001b[39;49m\u001b[38;5;241;43m.\u001b[39;49m\u001b[43m__check\u001b[49m\u001b[43m(\u001b[49m\n\u001b[1;32m    625\u001b[0m \u001b[43m        \u001b[49m\u001b[38;5;241;43m*\u001b[39;49m\u001b[38;5;28;43mself\u001b[39;49m\u001b[38;5;241;43m.\u001b[39;49m\u001b[43mrequestJson\u001b[49m\u001b[43m(\u001b[49m\n\u001b[1;32m    626\u001b[0m \u001b[43m            \u001b[49m\u001b[43mverb\u001b[49m\u001b[43m,\u001b[49m\n\u001b[1;32m    627\u001b[0m \u001b[43m            \u001b[49m\u001b[43murl\u001b[49m\u001b[43m,\u001b[49m\n\u001b[1;32m    628\u001b[0m \u001b[43m            \u001b[49m\u001b[43mparameters\u001b[49m\u001b[43m,\u001b[49m\n\u001b[1;32m    629\u001b[0m \u001b[43m            \u001b[49m\u001b[43mheaders\u001b[49m\u001b[43m,\u001b[49m\n\u001b[1;32m    630\u001b[0m \u001b[43m            \u001b[49m\u001b[38;5;28;43minput\u001b[39;49m\u001b[43m,\u001b[49m\n\u001b[1;32m    631\u001b[0m \u001b[43m            \u001b[49m\u001b[38;5;28;43mself\u001b[39;49m\u001b[38;5;241;43m.\u001b[39;49m\u001b[43m__customConnection\u001b[49m\u001b[43m(\u001b[49m\u001b[43murl\u001b[49m\u001b[43m)\u001b[49m\u001b[43m,\u001b[49m\n\u001b[1;32m    632\u001b[0m \u001b[43m            \u001b[49m\u001b[43mfollow_302_redirect\u001b[49m\u001b[38;5;241;43m=\u001b[39;49m\u001b[43mfollow_302_redirect\u001b[49m\u001b[43m,\u001b[49m\n\u001b[1;32m    633\u001b[0m \u001b[43m        \u001b[49m\u001b[43m)\u001b[49m\n\u001b[1;32m    634\u001b[0m \u001b[43m    \u001b[49m\u001b[43m)\u001b[49m\n",
      "File \u001b[0;32m~/Library/Python/3.9/lib/python/site-packages/github/Requester.py:792\u001b[0m, in \u001b[0;36mRequester.__check\u001b[0;34m(self, status, responseHeaders, output)\u001b[0m\n\u001b[1;32m    790\u001b[0m data \u001b[38;5;241m=\u001b[39m \u001b[38;5;28mself\u001b[39m\u001b[38;5;241m.\u001b[39m__structuredFromJson(output)\n\u001b[1;32m    791\u001b[0m \u001b[38;5;28;01mif\u001b[39;00m status \u001b[38;5;241m>\u001b[39m\u001b[38;5;241m=\u001b[39m \u001b[38;5;241m400\u001b[39m:\n\u001b[0;32m--> 792\u001b[0m     \u001b[38;5;28;01mraise\u001b[39;00m \u001b[38;5;28mself\u001b[39m\u001b[38;5;241m.\u001b[39mcreateException(status, responseHeaders, data)\n\u001b[1;32m    793\u001b[0m \u001b[38;5;28;01mreturn\u001b[39;00m responseHeaders, data\n",
      "\u001b[0;31mGithubException\u001b[0m: Unprocessable Entity: 422 {\"message\": \"Unprocessable Entity\", \"errors\": [\"Can not approve your own pull request\"], \"documentation_url\": \"https://docs.github.com/rest/pulls/reviews#create-a-review-for-a-pull-request\", \"status\": \"422\"}"
     ]
    }
   ],
   "source": [
    "# Approve the PR\n",
    "review = pr.create_review(event=\"APPROVE\", body=\"Approved automatically via script.\")\n",
    "\n",
    "print(f\"PR #{pr.number} approved successfully.\")\n"
   ]
  },
  {
   "cell_type": "code",
   "execution_count": null,
   "id": "09005268-f484-421a-b9a5-5d6c5a603265",
   "metadata": {},
   "outputs": [],
   "source": []
  },
  {
   "cell_type": "code",
   "execution_count": null,
   "id": "a8120d5a-dfb9-473a-9221-3e3aa9e58887",
   "metadata": {},
   "outputs": [],
   "source": []
  }
 ],
 "metadata": {
  "kernelspec": {
   "display_name": "Python 3 (ipykernel)",
   "language": "python",
   "name": "python3"
  },
  "language_info": {
   "codemirror_mode": {
    "name": "ipython",
    "version": 3
   },
   "file_extension": ".py",
   "mimetype": "text/x-python",
   "name": "python",
   "nbconvert_exporter": "python",
   "pygments_lexer": "ipython3",
   "version": "3.9.6"
  }
 },
 "nbformat": 4,
 "nbformat_minor": 5
}
