{
 "cells": [
  {
   "cell_type": "code",
   "execution_count": 2,
   "id": "c755cd8d-e123-4dbb-b80f-cd622649b86c",
   "metadata": {},
   "outputs": [
    {
     "name": "stdout",
     "output_type": "stream",
     "text": [
      "Defaulting to user installation because normal site-packages is not writeable\n",
      "Collecting slack_sdk\n",
      "  Downloading slack_sdk-3.35.0-py2.py3-none-any.whl (293 kB)\n",
      "\u001b[K     |████████████████████████████████| 293 kB 460 kB/s eta 0:00:01\n",
      "\u001b[?25hInstalling collected packages: slack-sdk\n",
      "Successfully installed slack-sdk-3.35.0\n",
      "\u001b[33mWARNING: You are using pip version 21.2.4; however, version 25.1.1 is available.\n",
      "You should consider upgrading via the '/Library/Developer/CommandLineTools/usr/bin/python3 -m pip install --upgrade pip' command.\u001b[0m\n"
     ]
    }
   ],
   "source": [
    "!pip3 install slack_sdk"
   ]
  },
  {
   "cell_type": "code",
   "execution_count": 4,
   "id": "5f1c5518-b288-4647-a8d6-34f865c4d19e",
   "metadata": {},
   "outputs": [],
   "source": [
    "from slack_sdk import WebClient\n",
    "from slack_sdk.errors import SlackApiError"
   ]
  },
  {
   "cell_type": "code",
   "execution_count": 5,
   "id": "ff50627c-43e1-4b5f-8721-6dffed7878b4",
   "metadata": {},
   "outputs": [],
   "source": [
    "# Replace the string below with your actual Bot User OAuth Token\n",
    "slack_token = \"add_your_slack_token\"\n",
    "client = WebClient(token=slack_token)"
   ]
  },
  {
   "cell_type": "code",
   "execution_count": 7,
   "id": "c4bc75d3-1e1c-48a8-bdd1-176d0896034b",
   "metadata": {},
   "outputs": [
    {
     "name": "stdout",
     "output_type": "stream",
     "text": [
      "Message sent successfully. Timestamp: 1749074433.734399\n"
     ]
    }
   ],
   "source": [
    "try:\n",
    "    response = client.chat_postMessage(\n",
    "        channel=\"C0903AJHCP6\",  # Use your channel ID here\n",
    "        text=\"Hello from Python Slack bot! 🎉\"\n",
    "    )\n",
    "    print(\"Message sent successfully. Timestamp:\", response[\"ts\"])\n",
    "except SlackApiError as e:\n",
    "    print(f\"Error sending message: {e.response['error']}\")\n"
   ]
  },
  {
   "cell_type": "code",
   "execution_count": 8,
   "id": "ed62fefb-e100-4ffe-948b-5b296478d93c",
   "metadata": {},
   "outputs": [
    {
     "name": "stdout",
     "output_type": "stream",
     "text": [
      "Message sent successfully. Timestamp: 1749074487.892739\n"
     ]
    }
   ],
   "source": [
    "try:\n",
    "    response = client.chat_postMessage(\n",
    "        channel=\"C0903AJHCP6\",\n",
    "        text=\"Here’s another message from your Python Slack bot! 🚀\"\n",
    "    )\n",
    "    print(\"Message sent successfully. Timestamp:\", response[\"ts\"])\n",
    "except SlackApiError as e:\n",
    "    print(f\"Error sending message: {e.response['error']}\")\n"
   ]
  },
  {
   "cell_type": "code",
   "execution_count": null,
   "id": "e8aac51d-dcf3-4c8a-9d24-8945182a0554",
   "metadata": {},
   "outputs": [],
   "source": []
  }
 ],
 "metadata": {
  "kernelspec": {
   "display_name": "Python 3 (ipykernel)",
   "language": "python",
   "name": "python3"
  },
  "language_info": {
   "codemirror_mode": {
    "name": "ipython",
    "version": 3
   },
   "file_extension": ".py",
   "mimetype": "text/x-python",
   "name": "python",
   "nbconvert_exporter": "python",
   "pygments_lexer": "ipython3",
   "version": "3.9.6"
  }
 },
 "nbformat": 4,
 "nbformat_minor": 5
}
